{
 "cells": [
  {
   "cell_type": "markdown",
   "metadata": {},
   "source": [
    "## Creative Writing Prompt Generator\n",
    "\n",
    "In this notebook, I create two functions to generate prompts for creative writing. The first is more primitive and takes lists as inputs, selecting a random element from each and output these selections to construct the prompt. The second is more user-friendly, outputting the prompt as a dictionary, which is more readable."
   ]
  },
  {
   "cell_type": "code",
   "execution_count": 106,
   "metadata": {},
   "outputs": [
    {
     "name": "stdout",
     "output_type": "stream",
     "text": [
      "cave\n",
      "stripper\n",
      "60s\n",
      "drama\n",
      "None\n"
     ]
    }
   ],
   "source": [
    "import random\n",
    "\n",
    "#setting up inputs\n",
    "\n",
    "settings = [\"interior\", \"exterior\", \"farm\", \"shopping mall\", \"police station\", \"spaceship\", \"cave\", \"casino\", \"church\", \"attic\"]\n",
    "characters = [\"dog walker\", \"estate agent\", \"DJ\", \"doctor\", \"train driver\", \"street sweeper\", \"teacher\", \"stripper\", \"comedian\", \"librarian\"]\n",
    "decades = [\"30s\", \"40s\", \"50s\", \"60s\", \"70s\", \"80s\", \"90s\", \"00s\", \"10s\", \"1860s\"]\n",
    "genres = [\"crime\", \"horror\", \"coming-of-age\", \"thriller\", \"comedy\", \"drama\", \"action\", \"romance\", \"poem\", \"flash-fiction\"]\n",
    "\n",
    "\n",
    "\n",
    "def generate_prompt(*categories):\n",
    "    \"\"\"this function generates a random creative writing prompt. \n",
    "    It takes a variable number of lists as inputs, choosing a random element of each to generate the prompt. \n",
    "    Although the 'prompt()' function below is better, I'll leave this one here to demonstrate the value of \n",
    "    the development process.\"\"\"\n",
    "    for i in range(len(categories)):\n",
    "        print(random.choice(categories[i]))\n",
    "        \n",
    "print(generate_prompt(settings, characters, decades, genres))"
   ]
  },
  {
   "cell_type": "markdown",
   "metadata": {},
   "source": [
    "Now we've got a basic function, let's make it a little more sophisticated. We'll start by storing the input lists in a dictionary. The new function will take as arguments, this dictionary and specified keys. "
   ]
  },
  {
   "cell_type": "code",
   "execution_count": 105,
   "metadata": {},
   "outputs": [
    {
     "name": "stdout",
     "output_type": "stream",
     "text": [
      "{'characters': 'train driver', 'settings': 'exterior'}\n"
     ]
    }
   ],
   "source": [
    "promptparts = {\n",
    "    \"settings\": settings,\n",
    "    \"characters\": characters,\n",
    "    \"decades\": decades,\n",
    "    \"genres\": genres\n",
    "              }\n",
    "\n",
    "def prompt(parts, types):\n",
    "    \"\"\"This function takes a dictionary as input, uses the specified keys to generate a random personalised prompt.\"\"\"\n",
    "    prompt = dict()#empty prompt dictionary\n",
    "    \n",
    "    if type(types) != list:\n",
    "        print(\"The 'types' input must be a list of strings!\")\n",
    "    else:\n",
    "        for i in range(len(types)):\n",
    "        \n",
    "            prompt[types[i]] = random.choice(parts[types[i]])\n",
    "    return prompt\n",
    "\n",
    "print(prompt(promptparts,[\"characters\", \"settings\"]))\n"
   ]
  },
  {
   "cell_type": "markdown",
   "metadata": {},
   "source": [
    "\n",
    "### improvements?\n",
    "\n",
    "The prompt function now has all the core functionality to generate a decent prompt. Some improvements:\n",
    "\n",
    "- the user can specify the number of values from each key to output.\n",
    "- force the user to input a dictionary for the parts argument.\n",
    "- output the final prompt as a string, possibly making more sense to the user (this obviously is difficult given the different keys specified).\n"
   ]
  }
 ],
 "metadata": {
  "kernelspec": {
   "display_name": "Python 3",
   "language": "python",
   "name": "python3"
  },
  "language_info": {
   "codemirror_mode": {
    "name": "ipython",
    "version": 3
   },
   "file_extension": ".py",
   "mimetype": "text/x-python",
   "name": "python",
   "nbconvert_exporter": "python",
   "pygments_lexer": "ipython3",
   "version": "3.8.5"
  }
 },
 "nbformat": 4,
 "nbformat_minor": 4
}
